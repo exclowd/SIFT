{
 "cells": [
  {
   "cell_type": "code",
   "execution_count": 1,
   "id": "e996b71c-046a-47b3-914b-20ec73d92369",
   "metadata": {},
   "outputs": [],
   "source": [
    "import matplotlib.pyplot as plt\n",
    "import seaborn as sns\n",
    "import numpy as np"
   ]
  },
  {
   "cell_type": "code",
   "execution_count": 2,
   "id": "57553cf4-8af3-49dc-affd-6b1397e9e72b",
   "metadata": {},
   "outputs": [],
   "source": [
    "output = \"\"\"1 - 0\n",
    "2 - 783\n",
    "3 - 1439\n",
    "4 - 1841\n",
    "5 - 2095\n",
    "6 - 2314\n",
    "7 - 2487\n",
    "8 - 2599\n",
    "9  - 2680\n",
    "10 - 2739\"\"\""
   ]
  },
  {
   "cell_type": "code",
   "execution_count": 3,
   "id": "42dca279-173b-4256-9ad6-562032eccee0",
   "metadata": {},
   "outputs": [
    {
     "data": {
      "text/plain": [
       "[['1 ', ' 0'],\n",
       " ['2 ', ' 783'],\n",
       " ['3 ', ' 1439'],\n",
       " ['4 ', ' 1841'],\n",
       " ['5 ', ' 2095'],\n",
       " ['6 ', ' 2314'],\n",
       " ['7 ', ' 2487'],\n",
       " ['8 ', ' 2599'],\n",
       " ['9  ', ' 2680'],\n",
       " ['10 ', ' 2739']]"
      ]
     },
     "execution_count": 3,
     "metadata": {},
     "output_type": "execute_result"
    }
   ],
   "source": [
    "pts = [x.split('-') for x in output.split('\\n')]\n",
    "pts"
   ]
  },
  {
   "cell_type": "code",
   "execution_count": 4,
   "id": "5e89df16-22a4-43dd-a474-b277369e448a",
   "metadata": {},
   "outputs": [],
   "source": [
    "x, y = list(zip(*[(int(z.strip()) for z in x)for x in pts ]))"
   ]
  },
  {
   "cell_type": "code",
   "execution_count": 5,
   "id": "df33ecad-8d68-4b96-a651-a7d302c98f0c",
   "metadata": {},
   "outputs": [
    {
     "data": {
      "text/plain": [
       "[<matplotlib.lines.Line2D at 0x7fdbac5402e0>]"
      ]
     },
     "execution_count": 5,
     "metadata": {},
     "output_type": "execute_result"
    },
    {
     "data": {
      "image/png": "[encoded data removed]",
      "text/plain": [
       "<Figure size 432x288 with 1 Axes>"
      ]
     },
     "metadata": {
      "needs_background": "light"
     },
     "output_type": "display_data"
    }
   ],
   "source": [
    "plt.plot(x, y)"
   ]
  }
 ],
 "metadata": {
  "kernelspec": {
   "display_name": "jupy-lab-kernel",
   "language": "python",
   "name": "jupy-lab-kernel"
  },
  "language_info": {
   "codemirror_mode": {
    "name": "ipython",
    "version": 3
   },
   "file_extension": ".py",
   "mimetype": "text/x-python",
   "name": "python",
   "nbconvert_exporter": "python",
   "pygments_lexer": "ipython3",
   "version": "3.8.10"
  }
 },
 "nbformat": 4,
 "nbformat_minor": 5
}
