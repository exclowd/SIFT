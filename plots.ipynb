{
 "cells": [
  {
   "cell_type": "code",
   "execution_count": null,
   "id": "e996b71c-046a-47b3-914b-20ec73d92369",
   "metadata": {},
   "outputs": [],
   "source": [
    "import matplotlib.pyplot as plt\n",
    "import seaborn as sns\n",
    "import numpy as np\n",
    "import plotly.express as px\n",
    "import pandas as pd\n",
    "import cv2"
   ]
  },
  {
   "cell_type": "code",
   "execution_count": null,
   "id": "57553cf4-8af3-49dc-affd-6b1397e9e72b",
   "metadata": {},
   "outputs": [],
   "source": [
    "def change(path):\n",
    "    img = cv2.imread(path)\n",
    "    \n",
    "    \n",
    "    "
   ]
  },
  {
   "cell_type": "code",
   "execution_count": null,
   "id": "42dca279-173b-4256-9ad6-562032eccee0",
   "metadata": {},
   "outputs": [],
   "source": [
    "pts = [x.split('-') for x in output.split('\\n')]\n",
    "pts"
   ]
  },
  {
   "cell_type": "code",
   "execution_count": null,
   "id": "5e89df16-22a4-43dd-a474-b277369e448a",
   "metadata": {},
   "outputs": [],
   "source": [
    "x, y = list(zip(*[(int(z.strip()) for z in x)for x in pts ]))"
   ]
  },
  {
   "cell_type": "code",
   "execution_count": null,
   "id": "df33ecad-8d68-4b96-a651-a7d302c98f0c",
   "metadata": {},
   "outputs": [],
   "source": [
    "plt.plot(x, y)"
   ]
  },
  {
   "cell_type": "markdown",
   "id": "a449c0c9-6203-4e94-8ce9-f657456c20a3",
   "metadata": {},
   "source": [
    "[512 x 512]\n",
    "2739\n",
    "elapsed time: ss.exec: 0.868085s\n",
    "\n",
    "\n",
    "[910 x 683]\n",
    "6030\n",
    "elapsed time: ss.exec: 2.17446s\n",
    "\n",
    "\n",
    "[3440 x 1440]\n",
    "31370\n",
    "elapsed time: ss.exec: 17.4106s\n",
    "\n",
    "[3840 x 2160]\n",
    "115826\n",
    "elapsed time: ss.exec: 31.4622s\n",
    "\n"
   ]
  }
 ],
 "metadata": {
  "interpreter": {
   "hash": "8601b2e66bc80618fbb4ae6892531a253099248c5caba126cc8eceab921b3ab0"
  },
  "kernelspec": {
   "display_name": "jupy-lab-kernel",
   "language": "python",
   "name": "python3"
  },
  "language_info": {
   "codemirror_mode": {
    "name": "ipython",
    "version": 3
   },
   "file_extension": ".py",
   "mimetype": "text/x-python",
   "name": "python",
   "nbconvert_exporter": "python",
   "pygments_lexer": "ipython3",
   "version": "3.8.10"
  }
 },
 "nbformat": 4,
 "nbformat_minor": 5
}
